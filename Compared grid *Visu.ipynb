{
 "cells": [
  {
   "cell_type": "code",
   "execution_count": 29,
   "metadata": {},
   "outputs": [],
   "source": [
    "import h5py, os, sys\n",
    "import numpy as np"
   ]
  },
  {
   "cell_type": "code",
   "execution_count": 30,
   "metadata": {},
   "outputs": [],
   "source": [
    "phys_state = 'visState0000.hdf5'\n",
    "fin = h5py.File(phys_state,'r')\n",
    "r_grid = fin['mesh/grid_r'].value\n",
    "theta_grid = fin['mesh/grid_theta'].value\n",
    "phi_grid = fin['mesh/grid_phi'].value"
   ]
  },
  {
   "cell_type": "code",
   "execution_count": 31,
   "metadata": {},
   "outputs": [
    {
     "name": "stdout",
     "output_type": "stream",
     "text": [
      "Grid length in r direction (Tschebyshev): 42\n",
      "Spectral resolution in r direction: 19\n",
      "Grid length in theta direction (Legendre): 60\n",
      "Spectral resolution in theta direction: 39\n",
      "Grid length in phi direction: 120\n",
      "Spectral resolution in phi direction: 39\n"
     ]
    }
   ],
   "source": [
    "spec_state = 'state0000.hdf5'\n",
    "fin2 = h5py.File(spec_state, 'r')\n",
    "NN = fin2['truncation/spectral/dim1D'].value\n",
    "LL = fin2['truncation/spectral/dim2D'].value\n",
    "MM = fin2['truncation/spectral/dim3D'].value\n",
    "print('Grid length in r direction (Tschebyshev):', len(r_grid))\n",
    "print('Spectral resolution in r direction:', NN )\n",
    "print('Grid length in theta direction (Legendre):', len(theta_grid))\n",
    "print('Spectral resolution in theta direction:', LL)\n",
    "print('Grid length in phi direction:', len(phi_grid))\n",
    "print('Spectral resolution in phi direction:', MM)"
   ]
  },
  {
   "cell_type": "code",
   "execution_count": 34,
   "metadata": {},
   "outputs": [
    {
     "data": {
      "text/plain": [
       "array([ True,  True,  True,  True,  True,  True,  True,  True,  True,\n",
       "        True,  True,  True,  True,  True,  True,  True,  True,  True,\n",
       "        True,  True,  True,  True,  True,  True,  True,  True,  True,\n",
       "        True,  True,  True,  True,  True,  True,  True,  True,  True,\n",
       "        True,  True,  True,  True,  True,  True,  True,  True,  True,\n",
       "        True,  True,  True,  True,  True,  True,  True,  True,  True,\n",
       "        True,  True,  True,  True,  True,  True,  True,  True,  True,\n",
       "        True,  True,  True,  True,  True,  True,  True,  True,  True,\n",
       "        True,  True,  True,  True,  True,  True,  True,  True,  True,\n",
       "        True,  True,  True,  True,  True,  True,  True,  True,  True,\n",
       "        True,  True,  True,  True,  True,  True,  True,  True,  True,\n",
       "        True,  True,  True,  True,  True,  True,  True,  True,  True,\n",
       "        True,  True,  True,  True,  True,  True,  True,  True,  True,\n",
       "        True,  True,  True])"
      ]
     },
     "execution_count": 34,
     "metadata": {},
     "output_type": "execute_result"
    }
   ],
   "source": [
    "# Compare the phi grids\n",
    "predicted_phi_grid = np.linspace(0, 2*np.pi, 3*(MM+1)+1)[:-1]\n",
    "np.abs(phi_grid - predicted_phi_grid) <1e-14"
   ]
  },
  {
   "cell_type": "code",
   "execution_count": 48,
   "metadata": {},
   "outputs": [
    {
     "name": "stdout",
     "output_type": "stream",
     "text": [
      "[-0.99921012 -0.99584053 -0.9897879  -0.9810672  -0.96970179 -0.95572226\n",
      " -0.93916628 -0.92007848 -0.89851031 -0.87451992 -0.84817198 -0.81953753\n",
      " -0.78869374 -0.75572378 -0.72071651 -0.68376633 -0.64497283 -0.6044406\n",
      " -0.5622789  -0.5186014  -0.47352584 -0.42717374 -0.37967006 -0.33114285\n",
      " -0.28172294 -0.23154355 -0.18073996 -0.12944914 -0.07780933 -0.02595977\n",
      "  0.02595977  0.07780933  0.12944914  0.18073996  0.23154355  0.28172294\n",
      "  0.33114285  0.37967006  0.42717374  0.47352584  0.5186014   0.5622789\n",
      "  0.6044406   0.64497283  0.68376633  0.72071651  0.75572378  0.78869374\n",
      "  0.81953753  0.84817198  0.87451992  0.89851031  0.92007848  0.93916628\n",
      "  0.95572226  0.96970179  0.9810672   0.9897879   0.99584053  0.99921012]\n",
      "[3.10184392 3.05035273 2.99855746 2.94669348 2.89480345 2.8429008\n",
      " 2.79099111 2.7390771  2.68716023 2.63524139 2.58332112 2.53139981\n",
      " 2.47947768 2.42755493 2.37563168 2.32370803 2.27178405 2.21985981\n",
      " 2.16793535 2.11601071 2.06408591 2.01216098 1.96023595 1.90831083\n",
      " 1.85638563 1.80446038 1.75253508 1.70060975 1.64868439 1.59675902\n",
      " 1.54483364 1.49290826 1.44098291 1.38905757 1.33713227 1.28520702\n",
      " 1.23328183 1.18135671 1.12943167 1.07750675 1.02558195 0.9736573\n",
      " 0.92173284 0.8698086  0.81788462 0.76596098 0.71403773 0.66211497\n",
      " 0.61019285 0.55827153 0.50635127 0.45443243 0.40251556 0.35060154\n",
      " 0.29869185 0.24678921 0.19489917 0.14303519 0.09123992 0.03974873]\n"
     ]
    }
   ],
   "source": [
    "predicted_theta_grid = np.polynomial.legendre.leggauss(int(3/2*(LL+1)))[0]\n",
    "print(predicted_theta_grid)\n",
    "print(theta_grid)"
   ]
  },
  {
   "cell_type": "code",
   "execution_count": 47,
   "metadata": {},
   "outputs": [
    {
     "data": {
      "text/plain": [
       "array([3.10184392, 3.05035273, 2.99855746, 2.94669348, 2.89480345,\n",
       "       2.8429008 , 2.79099111, 2.7390771 , 2.68716023, 2.63524139,\n",
       "       2.58332112, 2.53139981, 2.47947768, 2.42755493, 2.37563168,\n",
       "       2.32370803, 2.27178405, 2.21985981, 2.16793535, 2.11601071,\n",
       "       2.06408591, 2.01216098, 1.96023595, 1.90831083, 1.85638563,\n",
       "       1.80446038, 1.75253508, 1.70060975, 1.64868439, 1.59675902,\n",
       "       1.54483364, 1.49290826, 1.44098291, 1.38905757, 1.33713227,\n",
       "       1.28520702, 1.23328183, 1.18135671, 1.12943167, 1.07750675,\n",
       "       1.02558195, 0.9736573 , 0.92173284, 0.8698086 , 0.81788462,\n",
       "       0.76596098, 0.71403773, 0.66211497, 0.61019285, 0.55827153,\n",
       "       0.50635127, 0.45443243, 0.40251556, 0.35060154, 0.29869185,\n",
       "       0.24678921, 0.19489917, 0.14303519, 0.09123992, 0.03974873])"
      ]
     },
     "execution_count": 47,
     "metadata": {},
     "output_type": "execute_result"
    }
   ],
   "source": [
    "np.arccos(predicted_theta_grid)"
   ]
  },
  {
   "cell_type": "code",
   "execution_count": null,
   "metadata": {},
   "outputs": [],
   "source": []
  }
 ],
 "metadata": {
  "kernelspec": {
   "display_name": "Python 3",
   "language": "python",
   "name": "python3"
  },
  "language_info": {
   "codemirror_mode": {
    "name": "ipython",
    "version": 3
   },
   "file_extension": ".py",
   "mimetype": "text/x-python",
   "name": "python",
   "nbconvert_exporter": "python",
   "pygments_lexer": "ipython3",
   "version": "3.6.7"
  }
 },
 "nbformat": 4,
 "nbformat_minor": 2
}
