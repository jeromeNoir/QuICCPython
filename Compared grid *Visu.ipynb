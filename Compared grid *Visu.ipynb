{
 "cells": [
  {
   "cell_type": "code",
   "execution_count": 1,
   "metadata": {
    "autoscroll": false,
    "collapsed": false,
    "ein.hycell": false,
    "ein.tags": "worksheet-0",
    "slideshow": {
     "slide_type": "-"
    }
   },
   "outputs": [],
   "source": [
    "import h5py, os, sys\n",
    "import numpy as np"
   ]
  },
  {
   "cell_type": "code",
   "execution_count": 2,
   "metadata": {
    "autoscroll": false,
    "collapsed": false,
    "ein.hycell": false,
    "ein.tags": "worksheet-0",
    "slideshow": {
     "slide_type": "-"
    }
   },
   "outputs": [],
   "source": [
    "phys_state = 'visState0000.hdf5'\n",
    "fin = h5py.File(phys_state,'r')\n",
    "r_grid = fin['mesh/grid_r'].value\n",
    "theta_grid = fin['mesh/grid_theta'].value\n",
    "phi_grid = fin['mesh/grid_phi'].value"
   ]
  },
  {
   "cell_type": "code",
   "execution_count": 3,
   "metadata": {
    "autoscroll": false,
    "collapsed": false,
    "ein.hycell": false,
    "ein.tags": "worksheet-0",
    "slideshow": {
     "slide_type": "-"
    }
   },
   "outputs": [
    {
     "name": "stdout",
     "output_type": "stream",
     "text": [
      "Grid length in r direction (Tschebyshev): 66\n",
      "Spectral resolution in r direction: 35\n",
      "Grid length in theta direction (Legendre): 108\n",
      "Spectral resolution in theta direction: 71\n",
      "Grid length in phi direction: 36\n",
      "Spectral resolution in phi direction: 11\n"
     ]
    }
   ],
   "source": [
    "spec_state = 'state0000.hdf5'\n",
    "fin2 = h5py.File(spec_state, 'r')\n",
    "NN = fin2['truncation/spectral/dim1D'].value\n",
    "LL = fin2['truncation/spectral/dim2D'].value\n",
    "MM = fin2['truncation/spectral/dim3D'].value\n",
    "print('Grid length in r direction (Tschebyshev):', len(r_grid))\n",
    "print('Spectral resolution in r direction:', NN )\n",
    "print('Grid length in theta direction (Legendre):', len(theta_grid))\n",
    "print('Spectral resolution in theta direction:', LL)\n",
    "print('Grid length in phi direction:', len(phi_grid))\n",
    "print('Spectral resolution in phi direction:', MM)"
   ]
  },
  {
   "cell_type": "code",
   "execution_count": 4,
   "metadata": {
    "autoscroll": false,
    "collapsed": false,
    "ein.hycell": false,
    "ein.tags": "worksheet-0",
    "slideshow": {
     "slide_type": "-"
    }
   },
   "outputs": [
    {
     "data": {
      "text/plain": [
       "array([ True,  True,  True,  True,  True,  True,  True,  True,  True,\n        True,  True,  True,  True,  True,  True,  True,  True,  True,\n        True,  True,  True,  True,  True,  True,  True,  True,  True,\n        True,  True,  True,  True,  True,  True,  True,  True,  True])"
      ]
     },
     "execution_count": 4,
     "metadata": {},
     "output_type": "execute_result"
    }
   ],
   "source": [
    "# Compare the phi grids\n",
    "predicted_phi_grid = np.linspace(0, 2*np.pi, 3*(MM+1)+1)[:-1]\n",
    "np.abs(phi_grid - predicted_phi_grid) <1e-14"
   ]
  },
  {
   "cell_type": "code",
   "execution_count": 5,
   "metadata": {
    "autoscroll": false,
    "collapsed": false,
    "ein.hycell": false,
    "ein.tags": "worksheet-0",
    "slideshow": {
     "slide_type": "-"
    }
   },
   "outputs": [
    {
     "name": "stdout",
     "output_type": "stream",
     "text": [
      "[ True False False False False False  True  True  True  True  True  True\n",
      "  True  True  True False  True  True  True  True  True  True  True  True\n",
      "  True  True  True  True  True  True  True False  True  True  True  True\n",
      "  True  True  True False False False  True False  True  True  True  True\n",
      "  True  True  True  True  True  True  True  True  True  True  True  True\n",
      "  True  True  True  True  True False  True  True  True  True False  True\n",
      "  True  True  True  True False  True False False False False False False\n",
      "  True  True  True  True  True  True  True  True False  True  True  True\n",
      "  True  True  True  True  True  True False False False False False  True]\n"
     ]
    }
   ],
   "source": [
    "predicted_theta_grid = np.polynomial.legendre.leggauss(int(3/2*(LL+1)))[0]\n",
    "print(np.arccos(predicted_theta_grid) == theta_grid)"
   ]
  },
  {
   "cell_type": "code",
   "execution_count": 9,
   "metadata": {
    "autoscroll": false,
    "collapsed": false,
    "ein.hycell": false,
    "ein.tags": "worksheet-0",
    "slideshow": {
     "slide_type": "-"
    }
   },
   "outputs": [
    {
     "name": "stdout",
     "output_type": "stream",
     "text": [
      "(66,)\n",
      "[ True  True False False False False False False False False False False\n",
      " False False False False False False False  True False  True False False\n",
      " False False False False False False False False False False False False\n",
      " False False False False False False False False False False False False\n",
      " False False False False False False False False False False False False\n",
      " False False False False False False]\n",
      "[1.53831994 1.5371876  1.53492548 1.53153872 1.52703497 1.52142445\n",
      " 1.51471987 1.5069364  1.49809169 1.48820577 1.47730103 1.46540218\n",
      " 1.45253618 1.43873216 1.4240214  1.40843722 1.39201493 1.37479173\n",
      " 1.35680663 1.33810037 1.31871534 1.29869544 1.27808603 1.25693379\n",
      " 1.23528665 1.21319363 1.19070478 1.16787106 1.14474418 1.12137654\n",
      " 1.09782107 1.07413113 1.05036039 1.02656269 1.00279195 0.97910201\n",
      " 0.95554654 0.93217889 0.90905202 0.88621829 0.86372945 0.84163643\n",
      " 0.81998928 0.79883705 0.77822763 0.75820774 0.73882271 0.72011645\n",
      " 0.70213135 0.68490815 0.66848586 0.65290168 0.63819092 0.6243869\n",
      " 0.61152089 0.59962204 0.58871731 0.57883139 0.56998668 0.56220321\n",
      " 0.55549863 0.54988811 0.54538436 0.5419976  0.53973548 0.53860314]\n",
      "[1.53831994 1.5371876  1.53492548 1.53153872 1.52703497 1.52142445\n",
      " 1.51471987 1.5069364  1.49809169 1.48820577 1.47730103 1.46540218\n",
      " 1.45253618 1.43873216 1.4240214  1.40843722 1.39201493 1.37479173\n",
      " 1.35680663 1.33810037 1.31871534 1.29869544 1.27808603 1.25693379\n",
      " 1.23528665 1.21319363 1.19070478 1.16787106 1.14474418 1.12137654\n",
      " 1.09782107 1.07413113 1.05036039 1.02656269 1.00279195 0.97910201\n",
      " 0.95554654 0.93217889 0.90905202 0.88621829 0.86372945 0.84163643\n",
      " 0.81998928 0.79883705 0.77822763 0.75820774 0.73882271 0.72011645\n",
      " 0.70213135 0.68490815 0.66848586 0.65290168 0.63819092 0.6243869\n",
      " 0.61152089 0.59962204 0.58871731 0.57883139 0.56998668 0.56220321\n",
      " 0.55549863 0.54988811 0.54538436 0.5419976  0.53973548 0.53860314]\n"
     ]
    }
   ],
   "source": [
    "# check out the radial grid\n",
    "print(r_grid.shape)\n",
    "x, w = np.polynomial.chebyshev.chebgauss((NN+1)*3/2 + 12)\n",
    "r = x*.5 +.5*(1+.35)/(1-.35)\n",
    "print(r_grid == r)\n",
    "print(r_grid)\n",
    "print(r)\n"
   ]
  },
  {
   "cell_type": "code",
   "execution_count": null,
   "metadata": {
    "autoscroll": false,
    "collapsed": false,
    "ein.hycell": false,
    "ein.tags": "worksheet-0",
    "slideshow": {
     "slide_type": "-"
    }
   },
   "outputs": [],
   "source": []
  }
 ],
 "metadata": {
  "kernelspec": {
   "display_name": "Python 3",
   "name": "python3"
  },
  "language_info": {
   "codemirror_mode": {
    "name": "ipython",
    "version": 3
   },
   "file_extension": ".py",
   "mimetype": "text/x-python",
   "name": "python",
   "nbconvert_exporter": "python",
   "pygments_lexer": "ipython3",
   "version": "3.6.7"
  },
  "name": "Compared grid *Visu.ipynb"
 },
 "nbformat": 4,
 "nbformat_minor": 2
}
