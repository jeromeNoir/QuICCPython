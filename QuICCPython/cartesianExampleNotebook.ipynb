{
 "cells": [
  {
   "cell_type": "code",
   "execution_count": 10,
   "metadata": {},
   "outputs": [],
   "source": [
    "import readQP\n",
    "import cartesianFunctions\n",
    "import numpy as np"
   ]
  },
  {
   "cell_type": "code",
   "execution_count": 2,
   "metadata": {},
   "outputs": [],
   "source": [
    "S_filename='/Users/meredith/Files_Python_QUICC/CosXCos3Z/state0000.hdf5'\n",
    "P_filename='/Users/meredith/Files_Python_QUICC/CosXCos3Z/visState0000.hdf5'\n",
    "geometry = 'cartesian'\n",
    "my_state = readQP.SpectralState(S_filename,geometry)"
   ]
  },
  {
   "cell_type": "code",
   "execution_count": null,
   "metadata": {},
   "outputs": [],
   "source": [
    "# Get parameter values\n",
    "my_state.parameters.rayleigh"
   ]
  },
  {
   "cell_type": "code",
   "execution_count": null,
   "metadata": {},
   "outputs": [],
   "source": [
    "# Get fields\n",
    "my_state.fields.streamfunction"
   ]
  },
  {
   "cell_type": "code",
   "execution_count": 8,
   "metadata": {},
   "outputs": [
    {
     "data": {
      "text/plain": [
       "18"
      ]
     },
     "execution_count": 8,
     "metadata": {},
     "output_type": "execute_result"
    }
   ],
   "source": [
    "# Get time stepping information\n",
    "my_state.parameters.timestep\n",
    "my_state.parameters.time\n",
    "\n",
    "# Grid information\n",
    "my_state.specRes.N # Chebsyshev in vertical direction --- (use 3/2*(N+1) to get phys resolution)\n",
    "my_state.specRes.kx # wavenumbers in x --- (use 3/2 * (kx+1) to get phys resolution)\n",
    "my_state.specRes.ky # positive number of wavesnumbers in y direction --- (use 3/2 *2 * ky to get phys resolution)"
   ]
  },
  {
   "cell_type": "code",
   "execution_count": 13,
   "metadata": {},
   "outputs": [],
   "source": [
    "# Get slices in each direction\n",
    "field = 'velocityz'\n",
    "sliceXY = cartesianFunctions.getHorizontalSlice(my_state,field, -1)"
   ]
  },
  {
   "cell_type": "code",
   "execution_count": 11,
   "metadata": {},
   "outputs": [],
   "source": [
    "sliceYZ = cartesianFunctions.getVerticalSlice(my_state,field,'x', np.pi)"
   ]
  },
  {
   "cell_type": "code",
   "execution_count": 12,
   "metadata": {},
   "outputs": [],
   "source": [
    "sliceXZ = cartesianFunctions.getVerticalSlice(my_state,field,'y',2*np.pi)"
   ]
  },
  {
   "cell_type": "code",
   "execution_count": null,
   "metadata": {},
   "outputs": [],
   "source": []
  }
 ],
 "metadata": {
  "kernelspec": {
   "display_name": "Python 3",
   "language": "python",
   "name": "python3"
  },
  "language_info": {
   "codemirror_mode": {
    "name": "ipython",
    "version": 3
   },
   "file_extension": ".py",
   "mimetype": "text/x-python",
   "name": "python",
   "nbconvert_exporter": "python",
   "pygments_lexer": "ipython3",
   "version": "3.7.0"
  }
 },
 "nbformat": 4,
 "nbformat_minor": 2
}
