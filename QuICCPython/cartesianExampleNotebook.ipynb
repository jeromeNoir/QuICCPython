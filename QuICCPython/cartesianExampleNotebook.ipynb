{
 "cells": [
  {
   "cell_type": "code",
   "execution_count": 1,
   "metadata": {},
   "outputs": [],
   "source": [
    "import read\n",
    "import cartesian\n",
    "import numpy as np\n",
    "import matplotlib.pyplot as plt"
   ]
  },
  {
   "cell_type": "code",
   "execution_count": 2,
   "metadata": {},
   "outputs": [
    {
     "ename": "NameError",
     "evalue": "name 'geometry' is not defined",
     "output_type": "error",
     "traceback": [
      "\u001b[0;31m---------------------------------------------------------------------------\u001b[0m",
      "\u001b[0;31mNameError\u001b[0m                                 Traceback (most recent call last)",
      "\u001b[0;32m<ipython-input-2-b8bfc67e697e>\u001b[0m in \u001b[0;36m<module>\u001b[0;34m()\u001b[0m\n\u001b[1;32m      1\u001b[0m \u001b[0mS_filename\u001b[0m\u001b[0;34m=\u001b[0m\u001b[0;34m'/Users/meredith/Files_Python_QUICC/CosXCos3Z/state0000.hdf5'\u001b[0m\u001b[0;34m\u001b[0m\u001b[0;34m\u001b[0m\u001b[0m\n\u001b[1;32m      2\u001b[0m \u001b[0mP_filename\u001b[0m\u001b[0;34m=\u001b[0m\u001b[0;34m'/Users/meredith/Files_Python_QUICC/CosXCos3Z/visState0000.hdf5'\u001b[0m\u001b[0;34m\u001b[0m\u001b[0;34m\u001b[0m\u001b[0m\n\u001b[0;32m----> 3\u001b[0;31m \u001b[0mmy_state_Physical\u001b[0m \u001b[0;34m=\u001b[0m \u001b[0mread\u001b[0m\u001b[0;34m.\u001b[0m\u001b[0mPhysicalState\u001b[0m\u001b[0;34m(\u001b[0m\u001b[0mP_filename\u001b[0m\u001b[0;34m,\u001b[0m\u001b[0mgeometry\u001b[0m\u001b[0;34m)\u001b[0m\u001b[0;34m\u001b[0m\u001b[0;34m\u001b[0m\u001b[0m\n\u001b[0m\u001b[1;32m      4\u001b[0m \u001b[0;34m\u001b[0m\u001b[0m\n\u001b[1;32m      5\u001b[0m \u001b[0mgeometry\u001b[0m \u001b[0;34m=\u001b[0m \u001b[0;34m'cartesian'\u001b[0m\u001b[0;34m\u001b[0m\u001b[0;34m\u001b[0m\u001b[0m\n",
      "\u001b[0;31mNameError\u001b[0m: name 'geometry' is not defined"
     ]
    }
   ],
   "source": [
    "S_filename='/Users/meredith/Files_Python_QUICC/CosXCos3Z/state0000.hdf5'\n",
    "P_filename='/Users/meredith/Files_Python_QUICC/CosXCos3Z/visState0000.hdf5'\n",
    "\n",
    "file_S='/Users/meredith/scratch/build_latest/st_Ra40Pm05_NC.hdf5'\n",
    "\n",
    "geometry = 'cartesian'\n",
    "\n",
    "my_state = read.SpectralState(file_S,geometry)\n",
    "my_state_Physical = read.PhysicalState(P_filename,geometry)"
   ]
  },
  {
   "cell_type": "code",
   "execution_count": 3,
   "metadata": {},
   "outputs": [
    {
     "data": {
      "text/plain": [
       "40.0"
      ]
     },
     "execution_count": 3,
     "metadata": {},
     "output_type": "execute_result"
    }
   ],
   "source": [
    "# Get parameter values\n",
    "my_state.parameters.rayleigh"
   ]
  },
  {
   "cell_type": "code",
   "execution_count": 4,
   "metadata": {},
   "outputs": [],
   "source": [
    "# Get fields\n",
    "streamfunction = my_state.fields.streamfunction"
   ]
  },
  {
   "cell_type": "code",
   "execution_count": 5,
   "metadata": {},
   "outputs": [
    {
     "data": {
      "text/plain": [
       "64"
      ]
     },
     "execution_count": 5,
     "metadata": {},
     "output_type": "execute_result"
    }
   ],
   "source": [
    "# Get time stepping information\n",
    "my_state.parameters.timestep\n",
    "my_state.parameters.time\n",
    "\n",
    "# Grid information (spectral) \n",
    "my_state.specRes.N    # Chebsyshev in vertical direction --- (use 3/2*(N+1) to get phys resolution)\n",
    "my_state.specRes.kx   # wavenumbers in x --- (use 3/2 * (kx+1) to get phys resolution)\n",
    "my_state.specRes.ky   # positive number of wavesnumbers in y direction --- (use 3/2 *2 * ky to get phys resolution)"
   ]
  },
  {
   "cell_type": "code",
   "execution_count": 6,
   "metadata": {},
   "outputs": [],
   "source": [
    "# Get slices in each direction\n",
    "field = 'velocityz'\n",
    "zLevel = 0\n",
    "sliceXY = cartesian.getHorizontalSlice(my_state,field, zLevel)"
   ]
  },
  {
   "cell_type": "code",
   "execution_count": 7,
   "metadata": {},
   "outputs": [],
   "source": [
    "xLevel = np.pi\n",
    "sliceYZ = cartesian.getVerticalSlice(my_state,field,'x', xLevel)"
   ]
  },
  {
   "cell_type": "code",
   "execution_count": 8,
   "metadata": {},
   "outputs": [],
   "source": [
    "yLevel = 0\n",
    "sliceXZ = cartesian.getVerticalSlice(my_state,field,'y',yLevel)"
   ]
  },
  {
   "cell_type": "code",
   "execution_count": 9,
   "metadata": {},
   "outputs": [],
   "source": []
  },
  {
   "cell_type": "code",
   "execution_count": 12,
   "metadata": {},
   "outputs": [],
   "source": []
  },
  {
   "cell_type": "code",
   "execution_count": 14,
   "metadata": {},
   "outputs": [],
   "source": [
    "#X  = np.linspace(0,2*np.pi, nx)\n",
    "#Y  = np.linspace(0,2*np.pi, ny)\n",
    "#XX, YY = np.meshgrid(X, Y)\n",
    "\n",
    "#fig = plt.figure()\n",
    "#plt.figure(figsize=(10,7))\n",
    "\n",
    "#plt.contourf(XX,YY,sliceXZ.T,100, cmap = 'winter')\n",
    "#plt.colorbar()\n"
   ]
  },
  {
   "cell_type": "code",
   "execution_count": null,
   "metadata": {},
   "outputs": [],
   "source": []
  },
  {
   "cell_type": "code",
   "execution_count": null,
   "metadata": {},
   "outputs": [],
   "source": [
    "# make a Chebyshev grid for plotting\n",
    "Z = cartesian.makeChebyshevGrid(5)"
   ]
  },
  {
   "cell_type": "code",
   "execution_count": null,
   "metadata": {},
   "outputs": [],
   "source": []
  }
 ],
 "metadata": {
  "kernelspec": {
   "display_name": "Python 3",
   "language": "python",
   "name": "python3"
  },
  "language_info": {
   "codemirror_mode": {
    "name": "ipython",
    "version": 3
   },
   "file_extension": ".py",
   "mimetype": "text/x-python",
   "name": "python",
   "nbconvert_exporter": "python",
   "pygments_lexer": "ipython3",
   "version": "3.7.2"
  }
 },
 "nbformat": 4,
 "nbformat_minor": 2
}
