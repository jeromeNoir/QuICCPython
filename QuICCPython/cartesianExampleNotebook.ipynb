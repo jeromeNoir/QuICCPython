{
 "cells": [
  {
   "cell_type": "code",
   "execution_count": 21,
   "metadata": {},
   "outputs": [],
   "source": [
    "import read\n",
    "import cartesian\n",
    "import numpy as np"
   ]
  },
  {
   "cell_type": "code",
   "execution_count": 27,
   "metadata": {},
   "outputs": [],
   "source": [
    "S_filename='/Users/meredith/Files_Python_QUICC/CosXCos3Z/state0000.hdf5'\n",
    "P_filename='/Users/meredith/Files_Python_QUICC/CosXCos3Z/visState0000.hdf5'\n",
    "my_state_Physical = read.PhysicalState(P_filename,geometry)\n",
    "\n",
    "geometry = 'cartesian'\n",
    "my_state = read.SpectralState(S_filename,geometry)\n"
   ]
  },
  {
   "cell_type": "code",
   "execution_count": null,
   "metadata": {},
   "outputs": [],
   "source": [
    "# Get parameter values\n",
    "my_state.parameters.rayleigh"
   ]
  },
  {
   "cell_type": "code",
   "execution_count": null,
   "metadata": {},
   "outputs": [],
   "source": [
    "# Get fields\n",
    "my_state.fields.streamfunction"
   ]
  },
  {
   "cell_type": "code",
   "execution_count": 8,
   "metadata": {},
   "outputs": [
    {
     "data": {
      "text/plain": [
       "18"
      ]
     },
     "execution_count": 8,
     "metadata": {},
     "output_type": "execute_result"
    }
   ],
   "source": [
    "# Get time stepping information\n",
    "my_state.parameters.timestep\n",
    "my_state.parameters.time\n",
    "\n",
    "# Grid information\n",
    "my_state.specRes.N # Chebsyshev in vertical direction --- (use 3/2*(N+1) to get phys resolution)\n",
    "my_state.specRes.kx # wavenumbers in x --- (use 3/2 * (kx+1) to get phys resolution)\n",
    "my_state.specRes.ky # positive number of wavesnumbers in y direction --- (use 3/2 *2 * ky to get phys resolution)"
   ]
  },
  {
   "cell_type": "code",
   "execution_count": 24,
   "metadata": {},
   "outputs": [],
   "source": [
    "# Get slices in each direction\n",
    "field = 'velocityz'\n",
    "sliceXY = cartesian.getHorizontalSlice(my_state,field, -1)"
   ]
  },
  {
   "cell_type": "code",
   "execution_count": 25,
   "metadata": {},
   "outputs": [],
   "source": [
    "sliceYZ = cartesian.getVerticalSlice(my_state,field,'x', np.pi)"
   ]
  },
  {
   "cell_type": "code",
   "execution_count": 26,
   "metadata": {},
   "outputs": [],
   "source": [
    "sliceXZ = cartesian.getVerticalSlice(my_state,field,'y',2*np.pi)"
   ]
  },
  {
   "cell_type": "code",
   "execution_count": null,
   "metadata": {},
   "outputs": [],
   "source": []
  }
 ],
 "metadata": {
  "kernelspec": {
   "display_name": "Python 3",
   "language": "python",
   "name": "python3"
  },
  "language_info": {
   "codemirror_mode": {
    "name": "ipython",
    "version": 3
   },
   "file_extension": ".py",
   "mimetype": "text/x-python",
   "name": "python",
   "nbconvert_exporter": "python",
   "pygments_lexer": "ipython3",
   "version": "3.7.0"
  }
 },
 "nbformat": 4,
 "nbformat_minor": 2
}
