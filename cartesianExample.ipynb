{
 "cells": [
  {
   "cell_type": "code",
   "execution_count": 1,
   "metadata": {},
   "outputs": [],
   "source": [
    "import QuICCPython.read as read\n",
    "import QuICCPython.cartesian.spectral as cartesian\n",
    "import numpy as np\n",
    "\n",
    "% matplotlib inline\n",
    "from matplotlib import pyplot as plt"
   ]
  },
  {
   "cell_type": "markdown",
   "metadata": {},
   "source": [
    "# Read physical and spectral data files"
   ]
  },
  {
   "cell_type": "code",
   "execution_count": 3,
   "metadata": {},
   "outputs": [],
   "source": [
    "geometry = 'cartesian'\n",
    "S_filename='stateSpectralCartesianQuICC.hdf5' # This should be the path to the spectral coefficient state file\n",
    "P_filename='statePhysicalCartesianQuICC.hdf5' # This should be the path to the converted (physical space) state file\n",
    "\n",
    "p = read.PhysicalState(P_filename, geometry)\n",
    "s = read.SpectralState(S_filename, geometry)"
   ]
  },
  {
   "cell_type": "markdown",
   "metadata": {},
   "source": [
    "# Reading from physical state"
   ]
  },
  {
   "cell_type": "code",
   "execution_count": 4,
   "metadata": {},
   "outputs": [
    {
     "data": {
      "text/plain": [
       "1.0"
      ]
     },
     "execution_count": 4,
     "metadata": {},
     "output_type": "execute_result"
    }
   ],
   "source": [
    "p.fields.dz_meantemperature\n",
    "p.grid_x\n",
    "p.parameters.prandtl"
   ]
  },
  {
   "cell_type": "markdown",
   "metadata": {},
   "source": [
    "# Reading from spectral state"
   ]
  },
  {
   "cell_type": "code",
   "execution_count": 5,
   "metadata": {},
   "outputs": [
    {
     "name": "stdout",
     "output_type": "stream",
     "text": [
      "rayleigh: 20.0\n",
      "streamfunction size: (63, 18, 32)\n",
      "timestep: 0.001\n",
      "time: 0.0\n",
      "N: 32\n",
      "kx 63\n",
      "ky: 18\n"
     ]
    }
   ],
   "source": [
    "print('rayleigh:', s.parameters.rayleigh)\n",
    "print('streamfunction size:', s.fields.streamfunction.shape)\n",
    "# Get time stepping information\n",
    "print('timestep:', s.parameters.timestep)\n",
    "print('time:', s.parameters.time)\n",
    "\n",
    "# Grid information\n",
    "print('N:', s.specRes.N) # Chebsyshev in vertical direction --- (use 3/2*(N+1) to get phys resolution)\n",
    "print('kx',s.specRes.kx) # wavenumbers in x --- (use 3/2 * (kx+1) to get phys resolution)\n",
    "print('ky:', s.specRes.ky) # positive number of wavesnumbers in y direction --- (use 3/2 *2 * ky to get phys resolution)"
   ]
  },
  {
   "cell_type": "markdown",
   "metadata": {},
   "source": [
    "# All the following use the spectral file data as the input"
   ]
  },
  {
   "cell_type": "markdown",
   "metadata": {},
   "source": [
    "# Get a horizontal slice at a given z \n"
   ]
  },
  {
   "cell_type": "code",
   "execution_count": 6,
   "metadata": {},
   "outputs": [],
   "source": [
    "field = 'temperature'\n",
    "zLevel = 0\n",
    "sliceXY = cartesian.getHorizontalSlice(s, field, zLevel)"
   ]
  },
  {
   "cell_type": "code",
   "execution_count": 7,
   "metadata": {
    "scrolled": true
   },
   "outputs": [
    {
     "data": {
      "text/plain": [
       "<matplotlib.contour.QuadContourSet at 0x11d51b908>"
      ]
     },
     "execution_count": 7,
     "metadata": {},
     "output_type": "execute_result"
    },
    {
     "data": {
      "image/png": "[encoded data removed]",
      "text/plain": [
       "<Figure size 432x288 with 1 Axes>"
      ]
     },
     "metadata": {
      "needs_background": "light"
     },
     "output_type": "display_data"
    }
   ],
   "source": [
    "# Plotting\n",
    "contour_levels = 100\n",
    "plt.contourf(sliceXY, contour_levels)"
   ]
  },
  {
   "cell_type": "markdown",
   "metadata": {},
   "source": [
    "# Get a vertical slice at a given x level\n"
   ]
  },
  {
   "cell_type": "code",
   "execution_count": 8,
   "metadata": {},
   "outputs": [
    {
     "data": {
      "text/plain": [
       "<matplotlib.contour.QuadContourSet at 0x11d68af98>"
      ]
     },
     "execution_count": 8,
     "metadata": {},
     "output_type": "execute_result"
    },
    {
     "data": {
      "image/png": "[encoded data removed]",
      "text/plain": [
       "<Figure size 432x288 with 1 Axes>"
      ]
     },
     "metadata": {
      "needs_background": "light"
     },
     "output_type": "display_data"
    }
   ],
   "source": [
    "xLevel = np.pi\n",
    "field = 'temperature'\n",
    "sliceYZ = cartesian.getVerticalSlice(s,field,'x', xLevel)\n",
    "plt.contourf(sliceYZ)"
   ]
  },
  {
   "cell_type": "markdown",
   "metadata": {},
   "source": [
    "# Get a vertical slice at a given y level\n"
   ]
  },
  {
   "cell_type": "code",
   "execution_count": 9,
   "metadata": {},
   "outputs": [
    {
     "data": {
      "text/plain": [
       "<matplotlib.contour.QuadContourSet at 0x11d6ee278>"
      ]
     },
     "execution_count": 9,
     "metadata": {},
     "output_type": "execute_result"
    },
    {
     "data": {
      "image/png": "[encoded data removed]",
      "text/plain": [
       "<Figure size 432x288 with 1 Axes>"
      ]
     },
     "metadata": {
      "needs_background": "light"
     },
     "output_type": "display_data"
    }
   ],
   "source": [
    "yLevel = 2*np.pi\n",
    "sliceXZ = cartesian.getVerticalSlice(s,field,'y',yLevel)\n",
    "plt.contourf(sliceXZ,contour_levels)"
   ]
  },
  {
   "cell_type": "markdown",
   "metadata": {},
   "source": [
    "# Get a value at a specific point"
   ]
  },
  {
   "cell_type": "code",
   "execution_count": 10,
   "metadata": {},
   "outputs": [
    {
     "name": "stdout",
     "output_type": "stream",
     "text": [
      "1.0\n"
     ]
    }
   ],
   "source": [
    "field = 'temperature'\n",
    "xValue = 0\n",
    "yValue = 1\n",
    "zValue = .5\n",
    "value = cartesian.getPointValue(s, field, xValue, yValue, zValue)\n",
    "print(value)"
   ]
  },
  {
   "cell_type": "markdown",
   "metadata": {},
   "source": [
    "# Make the Fourier and Chebyshev grids"
   ]
  },
  {
   "cell_type": "code",
   "execution_count": 11,
   "metadata": {},
   "outputs": [],
   "source": [
    "zRes = 10\n",
    "Z = cartesian.makeChebyshevGrid(zRes)\n",
    "yRes = 10\n",
    "Y  = np.linspace(0,2*np.pi, yRes)\n",
    "xRes = 10\n",
    "X  = np.linspace(0,2*np.pi, xRes)"
   ]
  },
  {
   "cell_type": "code",
   "execution_count": null,
   "metadata": {},
   "outputs": [],
   "source": []
  }
 ],
 "metadata": {
  "kernelspec": {
   "display_name": "Python 3",
   "language": "python",
   "name": "python3"
  },
  "language_info": {
   "codemirror_mode": {
    "name": "ipython",
    "version": 3
   },
   "file_extension": ".py",
   "mimetype": "text/x-python",
   "name": "python",
   "nbconvert_exporter": "python",
   "pygments_lexer": "ipython3",
   "version": "3.7.2"
  }
 },
 "nbformat": 4,
 "nbformat_minor": 2
}
