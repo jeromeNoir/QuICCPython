{
 "cells": [
  {
   "cell_type": "code",
   "execution_count": 1,
   "metadata": {},
   "outputs": [
    {
     "ename": "ImportError",
     "evalue": "/home/nicolol/.local/lib/python3.6/site-packages/quicc_bind.cpython-36m-x86_64-linux-gnu.so: undefined symbol: shtns_create",
     "output_type": "error",
     "traceback": [
      "\u001b[0;31m---------------------------------------------------------------------------\u001b[0m",
      "\u001b[0;31mImportError\u001b[0m                               Traceback (most recent call last)",
      "\u001b[0;32m<ipython-input-1-d00a3d2af26f>\u001b[0m in \u001b[0;36m<module>\u001b[0;34m()\u001b[0m\n\u001b[0;32m----> 1\u001b[0;31m \u001b[0;32mfrom\u001b[0m \u001b[0mread\u001b[0m \u001b[0;32mimport\u001b[0m \u001b[0mSpectralState\u001b[0m\u001b[0;34m\u001b[0m\u001b[0;34m\u001b[0m\u001b[0m\n\u001b[0m\u001b[1;32m      2\u001b[0m \u001b[0;32mimport\u001b[0m \u001b[0mnumpy\u001b[0m \u001b[0;32mas\u001b[0m \u001b[0mnp\u001b[0m\u001b[0;34m\u001b[0m\u001b[0;34m\u001b[0m\u001b[0m\n\u001b[1;32m      3\u001b[0m \u001b[0;32mfrom\u001b[0m \u001b[0mmatplotlib\u001b[0m \u001b[0;32mimport\u001b[0m \u001b[0mpyplot\u001b[0m \u001b[0;32mas\u001b[0m \u001b[0mplt\u001b[0m\u001b[0;34m\u001b[0m\u001b[0;34m\u001b[0m\u001b[0m\n",
      "\u001b[0;32m~/workspace/QuICCPython/EpmPython/read.py\u001b[0m in \u001b[0;36m<module>\u001b[0;34m()\u001b[0m\n\u001b[0;32m----> 1\u001b[0;31m \u001b[0;32mimport\u001b[0m \u001b[0msphere\u001b[0m\u001b[0;34m\u001b[0m\u001b[0;34m\u001b[0m\u001b[0m\n\u001b[0m\u001b[1;32m      2\u001b[0m \u001b[0;32mimport\u001b[0m \u001b[0mh5py\u001b[0m\u001b[0;34m\u001b[0m\u001b[0;34m\u001b[0m\u001b[0m\n\u001b[1;32m      3\u001b[0m \u001b[0;32mimport\u001b[0m \u001b[0mnumpy\u001b[0m \u001b[0;32mas\u001b[0m \u001b[0mnp\u001b[0m\u001b[0;34m\u001b[0m\u001b[0;34m\u001b[0m\u001b[0m\n\u001b[1;32m      4\u001b[0m \u001b[0;32mfrom\u001b[0m \u001b[0mscipy\u001b[0m\u001b[0;34m.\u001b[0m\u001b[0mfftpack\u001b[0m \u001b[0;32mimport\u001b[0m \u001b[0mdct\u001b[0m\u001b[0;34m,\u001b[0m \u001b[0midct\u001b[0m\u001b[0;34m\u001b[0m\u001b[0;34m\u001b[0m\u001b[0m\n\u001b[1;32m      5\u001b[0m \u001b[0;32mfrom\u001b[0m \u001b[0mnumpy\u001b[0m\u001b[0;34m.\u001b[0m\u001b[0mpolynomial\u001b[0m \u001b[0;32mimport\u001b[0m \u001b[0mchebyshev\u001b[0m \u001b[0;32mas\u001b[0m \u001b[0mcheb\u001b[0m\u001b[0;34m\u001b[0m\u001b[0;34m\u001b[0m\u001b[0m\n",
      "\u001b[0;32m~/workspace/QuICCPython/EpmPython/sphere.py\u001b[0m in \u001b[0;36m<module>\u001b[0;34m()\u001b[0m\n\u001b[1;32m      3\u001b[0m \u001b[0;32mimport\u001b[0m \u001b[0msys\u001b[0m\u001b[0;34m\u001b[0m\u001b[0;34m\u001b[0m\u001b[0m\n\u001b[1;32m      4\u001b[0m \u001b[0;31m#sys.path.append('/home/nicolol/workspace/QuICC/Scripts/Python/pybind11/')\u001b[0m\u001b[0;34m\u001b[0m\u001b[0;34m\u001b[0m\u001b[0;34m\u001b[0m\u001b[0m\n\u001b[0;32m----> 5\u001b[0;31m \u001b[0;32mimport\u001b[0m \u001b[0mquicc_bind\u001b[0m \u001b[0;32mas\u001b[0m \u001b[0mquicc_pybind\u001b[0m\u001b[0;34m\u001b[0m\u001b[0;34m\u001b[0m\u001b[0m\n\u001b[0m\u001b[1;32m      6\u001b[0m \u001b[0;31m#sys.path.append('/Users/leo/quicc-github/QuICC/Scripts/Python/z-integral/')\u001b[0m\u001b[0;34m\u001b[0m\u001b[0;34m\u001b[0m\u001b[0;34m\u001b[0m\u001b[0m\n\u001b[1;32m      7\u001b[0m \u001b[0;31m#import rotationModules as rot\u001b[0m\u001b[0;34m\u001b[0m\u001b[0;34m\u001b[0m\u001b[0;34m\u001b[0m\u001b[0m\n",
      "\u001b[0;31mImportError\u001b[0m: /home/nicolol/.local/lib/python3.6/site-packages/quicc_bind.cpython-36m-x86_64-linux-gnu.so: undefined symbol: shtns_create"
     ]
    }
   ],
   "source": [
    "from read import SpectralState\n",
    "import numpy as np\n",
    "from matplotlib import pyplot as plt"
   ]
  },
  {
   "cell_type": "markdown",
   "metadata": {},
   "source": [
    "# Read spectral Data"
   ]
  },
  {
   "cell_type": "code",
   "execution_count": 2,
   "metadata": {},
   "outputs": [
    {
     "name": "stdout",
     "output_type": "stream",
     "text": [
      "Vel Pol: (66, 11)\n",
      "Vel Tor: (66, 11)\n"
     ]
    }
   ],
   "source": [
    "#s = SpectralState('stateSpectralShellQuICC.hdf5', 'sphere', 'quicc')\n",
    "#s = SpectralState('stateSpectralSphereQuICC.hdf5', 'sphere', 'quicc')\n",
    "s = SpectralState('stateSpectralEPM.hdf5', 'sphere', 'epm')\n",
    "print('Vel Pol:', s.fields.velocity_pol.shape)\n",
    "print('Vel Tor:', s.fields.velocity_tor.shape)"
   ]
  },
  {
   "cell_type": "markdown",
   "metadata": {},
   "source": [
    "# A) $\\omega_f$ : uniform vorticity "
   ]
  },
  {
   "cell_type": "code",
   "execution_count": 3,
   "metadata": {},
   "outputs": [
    {
     "name": "stdout",
     "output_type": "stream",
     "text": [
      "Omega_f:  [-2.18317115e-16  1.00000000e+00 -2.65032236e-19]\n"
     ]
    }
   ],
   "source": [
    "from sphere import getUniformVorticity\n",
    "rmax = 1\n",
    "omegaF=getUniformVorticity(s, rmax)\n",
    "print('Omega_f: ', omegaF)"
   ]
  },
  {
   "cell_type": "markdown",
   "metadata": {},
   "source": [
    "# B) Align with the fluid axis"
   ]
  },
  {
   "cell_type": "code",
   "execution_count": 4,
   "metadata": {},
   "outputs": [],
   "source": [
    "#%pdb\n",
    "from sphere import alignAlongFluidAxis\n",
    "alignAlongFluidAxis(s, omegaF)"
   ]
  },
  {
   "cell_type": "markdown",
   "metadata": {},
   "source": [
    "# C) Write state file  "
   ]
  },
  {
   "cell_type": "markdown",
   "metadata": {},
   "source": [
    "# D) $\\gamma_f$: rotation angle of the fluid   "
   ]
  },
  {
   "cell_type": "code",
   "execution_count": 5,
   "metadata": {},
   "outputs": [],
   "source": [
    "from sphere import getGammaF\n",
    "#filename = ''\n",
    "#getGammaF()"
   ]
  },
  {
   "cell_type": "markdown",
   "metadata": {},
   "source": [
    "# E) Go to Fluid Frame "
   ]
  },
  {
   "cell_type": "code",
   "execution_count": 6,
   "metadata": {},
   "outputs": [],
   "source": [
    "from sphere import goToFluidFrameOfReference\n",
    "#getGammaF(filename)\n",
    "gamma = 0\n",
    "goToFluidFrameOfReference(s, gamma)"
   ]
  },
  {
   "cell_type": "markdown",
   "metadata": {},
   "source": [
    "# F) Get Integrator"
   ]
  },
  {
   "cell_type": "code",
   "execution_count": 7,
   "metadata": {},
   "outputs": [
    {
     "name": "stdout",
     "output_type": "stream",
     "text": [
      "id_s:  0 time:  0.2773420810699463\n",
      "id_s:  1 time:  0.2592501640319824\n",
      "id_s:  2 time:  0.263660192489624\n",
      "id_s:  3 time:  0.2460479736328125\n",
      "id_s:  4 time:  0.28438901901245117\n",
      "id_s:  5 time:  0.29091811180114746\n",
      "id_s:  6 time:  0.2634272575378418\n",
      "id_s:  7 time:  0.2800271511077881\n",
      "id_s:  8 time:  0.2559022903442383\n",
      "id_s:  9 time:  0.285977840423584\n",
      "id_s:  10 time:  0.2608611583709717\n",
      "id_s:  11 time:  0.22968196868896484\n",
      "id_s:  12 time:  0.2686741352081299\n",
      "id_s:  13 time:  0.23073792457580566\n",
      "id_s:  14 time:  0.27791905403137207\n",
      "id_s:  15 time:  0.3233768939971924\n",
      "id_s:  16 time:  0.28501129150390625\n",
      "id_s:  17 time:  0.2764410972595215\n",
      "id_s:  18 time:  0.27568984031677246\n",
      "id_s:  19 time:  0.26412391662597656\n",
      "id_s:  20 time:  0.26842403411865234\n",
      "id_s:  21 time:  0.2555420398712158\n",
      "id_s:  22 time:  0.28286290168762207\n",
      "id_s:  23 time:  0.24781584739685059\n",
      "id_s:  24 time:  0.2499539852142334\n",
      "id_s:  25 time:  0.23895692825317383\n",
      "id_s:  26 time:  0.23190617561340332\n",
      "id_s:  27 time:  0.2574772834777832\n",
      "id_s:  28 time:  0.2567167282104492\n",
      "id_s:  29 time:  0.22631597518920898\n",
      "id_s:  30 time:  0.24708104133605957\n",
      "id_s:  31 time:  0.2292158603668213\n",
      "id_s:  32 time:  0.23737406730651855\n",
      "id_s:  33 time:  0.23433899879455566\n",
      "id_s:  34 time:  0.22945094108581543\n",
      "id_s:  35 time:  0.2408289909362793\n",
      "id_s:  36 time:  0.23680710792541504\n",
      "id_s:  37 time:  0.2508690357208252\n",
      "id_s:  38 time:  0.23528099060058594\n",
      "id_s:  39 time:  0.25031495094299316\n",
      "Total time: 10.31898808479309\n"
     ]
    }
   ],
   "source": [
    "from sphere import getZIntegrator\n",
    "nNs = 40\n",
    "zInt = getZIntegrator(s, \"uS\", nNs)"
   ]
  },
  {
   "cell_type": "markdown",
   "metadata": {},
   "source": [
    "# E) Get Z-Integral"
   ]
  },
  {
   "cell_type": "code",
   "execution_count": 8,
   "metadata": {},
   "outputs": [],
   "source": [
    "from sphere import getZIntegral \n",
    "#%pdb\n",
    "zIntegral = getZIntegral(s, zInt)"
   ]
  },
  {
   "cell_type": "markdown",
   "metadata": {},
   "source": [
    "# E) Get Slices"
   ]
  },
  {
   "cell_type": "code",
   "execution_count": null,
   "metadata": {},
   "outputs": [],
   "source": [
    "#%matplotlib notebook"
   ]
  },
  {
   "cell_type": "code",
   "execution_count": 9,
   "metadata": {},
   "outputs": [],
   "source": [
    "#Make Slices and Grids\n",
    "eqGrid=s.makeEquatorialGrid()\n",
    "eqSlice=s.makeEquatorialSlice()\n",
    "merGrid=s.makeMeridionalGrid()\n",
    "merSlice=s.makeMeridionalSlice()"
   ]
  },
  {
   "cell_type": "code",
   "execution_count": null,
   "metadata": {},
   "outputs": [],
   "source": []
  }
 ],
 "metadata": {
  "kernelspec": {
   "display_name": "Python 3",
   "language": "python",
   "name": "python3"
  },
  "language_info": {
   "codemirror_mode": {
    "name": "ipython",
    "version": 3
   },
   "file_extension": ".py",
   "mimetype": "text/x-python",
   "name": "python",
   "nbconvert_exporter": "python",
   "pygments_lexer": "ipython3",
   "version": "3.6.7"
  }
 },
 "nbformat": 4,
 "nbformat_minor": 2
}
