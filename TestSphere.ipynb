{
 "cells": [
  {
   "cell_type": "code",
   "execution_count": 6,
   "metadata": {},
   "outputs": [
    {
     "ename": "SyntaxError",
     "evalue": "invalid syntax (read.py, line 1)",
     "output_type": "error",
     "traceback": [
      "Traceback \u001b[0;36m(most recent call last)\u001b[0m:\n",
      "  File \u001b[1;32m\"/usr/local/lib/python3.7/site-packages/IPython/core/interactiveshell.py\"\u001b[0m, line \u001b[1;32m2961\u001b[0m, in \u001b[1;35mrun_code\u001b[0m\n    exec(code_obj, self.user_global_ns, self.user_ns)\n",
      "\u001b[0;36m  File \u001b[0;32m\"<ipython-input-6-165c7cd31efe>\"\u001b[0;36m, line \u001b[0;32m1\u001b[0;36m, in \u001b[0;35m<module>\u001b[0;36m\u001b[0m\n\u001b[0;31m    from EpmPython.read import SpectralState\u001b[0m\n",
      "\u001b[0;36m  File \u001b[0;32m\"/Users/leo/QuICCPython/EpmPython/read.py\"\u001b[0;36m, line \u001b[0;32m1\u001b[0m\n\u001b[0;31m    from ../base_state import BaseState\u001b[0m\n\u001b[0m           ^\u001b[0m\n\u001b[0;31mSyntaxError\u001b[0m\u001b[0;31m:\u001b[0m invalid syntax\n"
     ]
    }
   ],
   "source": [
    "from EpmPython.read import SpectralState\n",
    "#import numpy as np\n",
    "#from matplotlib import pyplot as plt"
   ]
  },
  {
   "cell_type": "markdown",
   "metadata": {},
   "source": [
    "# Read spectral Data"
   ]
  },
  {
   "cell_type": "code",
   "execution_count": 16,
   "metadata": {},
   "outputs": [
    {
     "name": "stdout",
     "output_type": "stream",
     "text": [
      "Vel Pol: (66, 11)\n",
      "Vel Tor: (66, 11)\n"
     ]
    }
   ],
   "source": [
    "#s = SpectralState('stateSpectralShellQuICC.hdf5', 'sphere', 'quicc')\n",
    "#s = SpectralState('stateSpectralSphereQuICC.hdf5', 'sphere', 'quicc')\n",
    "s = SpectralState('stateSpectralEPM.hdf5', 'sphere', 'epm')\n",
    "print('Vel Pol:', s.fields.velocity_pol.shape)\n",
    "print('Vel Tor:', s.fields.velocity_tor.shape)"
   ]
  },
  {
   "cell_type": "markdown",
   "metadata": {},
   "source": [
    "# A) $\\omega_f$ : uniform vorticity "
   ]
  },
  {
   "cell_type": "code",
   "execution_count": 17,
   "metadata": {},
   "outputs": [
    {
     "name": "stdout",
     "output_type": "stream",
     "text": [
      "Omega_f:  [-2.18317115e-16  1.00000000e+00 -2.65032236e-19]\n"
     ]
    }
   ],
   "source": [
    "from tools import getUniformVorticity\n",
    "rmax = 1\n",
    "omegaF=getUniformVorticity(s, rmax)\n",
    "print('Omega_f: ', omegaF)"
   ]
  },
  {
   "cell_type": "markdown",
   "metadata": {},
   "source": [
    "# B) Align with the fluid axis"
   ]
  },
  {
   "cell_type": "code",
   "execution_count": 18,
   "metadata": {},
   "outputs": [],
   "source": [
    "#%pdb\n",
    "from tools import alignAlongFluidAxis\n",
    "alignAlongFluidAxis(s, omegaF)"
   ]
  },
  {
   "cell_type": "markdown",
   "metadata": {},
   "source": [
    "# C) Write state file  "
   ]
  },
  {
   "cell_type": "markdown",
   "metadata": {},
   "source": [
    "# D) $\\gamma_f$: rotation angle of the fluid   "
   ]
  },
  {
   "cell_type": "code",
   "execution_count": 19,
   "metadata": {},
   "outputs": [],
   "source": [
    "from tools import getGammaF\n",
    "#filename = ''\n",
    "#getGammaF()"
   ]
  },
  {
   "cell_type": "markdown",
   "metadata": {},
   "source": [
    "# E) Go to Fluid Frame "
   ]
  },
  {
   "cell_type": "code",
   "execution_count": 20,
   "metadata": {},
   "outputs": [],
   "source": [
    "from tools import goToFluidFrameOfReference\n",
    "#getGammaF(filename)\n",
    "gamma = 0\n",
    "goToFluidFrameOfReference(s, gamma)"
   ]
  },
  {
   "cell_type": "markdown",
   "metadata": {},
   "source": [
    "# F) Get Integrator"
   ]
  },
  {
   "cell_type": "code",
   "execution_count": 22,
   "metadata": {},
   "outputs": [
    {
     "name": "stdout",
     "output_type": "stream",
     "text": [
      "id_s:  0 time:  0.2921319007873535\n",
      "id_s:  1 time:  0.2263498306274414\n",
      "id_s:  2 time:  0.25752806663513184\n",
      "id_s:  3 time:  0.24634385108947754\n",
      "id_s:  4 time:  0.20223379135131836\n",
      "id_s:  5 time:  0.2343919277191162\n",
      "id_s:  6 time:  0.2323610782623291\n",
      "id_s:  7 time:  0.23109793663024902\n",
      "id_s:  8 time:  0.2427670955657959\n",
      "id_s:  9 time:  0.2312781810760498\n",
      "id_s:  10 time:  0.2200779914855957\n",
      "id_s:  11 time:  0.2646181583404541\n",
      "id_s:  12 time:  0.20530319213867188\n",
      "id_s:  13 time:  0.24920105934143066\n",
      "id_s:  14 time:  0.21842694282531738\n",
      "id_s:  15 time:  0.2486562728881836\n",
      "id_s:  16 time:  0.2503621578216553\n",
      "id_s:  17 time:  0.22866272926330566\n",
      "id_s:  18 time:  0.2487790584564209\n",
      "id_s:  19 time:  0.2214062213897705\n",
      "id_s:  20 time:  0.2519071102142334\n",
      "id_s:  21 time:  0.22364282608032227\n",
      "id_s:  22 time:  0.25080394744873047\n",
      "id_s:  23 time:  0.22342395782470703\n",
      "id_s:  24 time:  0.23537397384643555\n",
      "id_s:  25 time:  0.23082399368286133\n",
      "id_s:  26 time:  0.2368149757385254\n",
      "id_s:  27 time:  0.2323746681213379\n",
      "id_s:  28 time:  0.2264399528503418\n",
      "id_s:  29 time:  0.2252957820892334\n",
      "id_s:  30 time:  0.22019505500793457\n",
      "id_s:  31 time:  0.2525477409362793\n",
      "id_s:  32 time:  0.2709329128265381\n",
      "id_s:  33 time:  0.23877191543579102\n",
      "id_s:  34 time:  0.2479228973388672\n",
      "id_s:  35 time:  0.24097323417663574\n",
      "id_s:  36 time:  0.22163081169128418\n",
      "id_s:  37 time:  0.22231721878051758\n",
      "id_s:  38 time:  0.2990438938140869\n",
      "id_s:  39 time:  0.3352930545806885\n",
      "Total time: 9.646136999130249\n"
     ]
    }
   ],
   "source": [
    "from tools import getZIntegrator\n",
    "nNs = 40\n",
    "zInt = getZIntegrator(s, \"uS\", nNs)"
   ]
  },
  {
   "cell_type": "markdown",
   "metadata": {},
   "source": [
    "# E) Get Z-Integral"
   ]
  },
  {
   "cell_type": "code",
   "execution_count": 23,
   "metadata": {},
   "outputs": [],
   "source": [
    "from tools import getZIntegral \n",
    "#%pdb\n",
    "zIntegral = getZIntegral(s, omegaZint)"
   ]
  },
  {
   "cell_type": "markdown",
   "metadata": {},
   "source": [
    "# E) Get Slices"
   ]
  },
  {
   "cell_type": "code",
   "execution_count": null,
   "metadata": {},
   "outputs": [],
   "source": [
    "#%matplotlib notebook"
   ]
  },
  {
   "cell_type": "code",
   "execution_count": 24,
   "metadata": {},
   "outputs": [],
   "source": [
    "#Make Slices and Grids\n",
    "eqGrid=s.makeEquatorialGrid()\n",
    "eqSlice=s.makeEquatorialSlice()\n",
    "merGrid=s.makeMeridionalGrid()\n",
    "merSlice=s.makeMeridionalSlice()"
   ]
  },
  {
   "cell_type": "code",
   "execution_count": null,
   "metadata": {},
   "outputs": [],
   "source": []
  }
 ],
 "metadata": {
  "kernelspec": {
   "display_name": "Python 3",
   "language": "python",
   "name": "python3"
  },
  "language_info": {
   "codemirror_mode": {
    "name": "ipython",
    "version": 3
   },
   "file_extension": ".py",
   "mimetype": "text/x-python",
   "name": "python",
   "nbconvert_exporter": "python",
   "pygments_lexer": "ipython3",
   "version": "3.7.2"
  }
 },
 "nbformat": 4,
 "nbformat_minor": 2
}
