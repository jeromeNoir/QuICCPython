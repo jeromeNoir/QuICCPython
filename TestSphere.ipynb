{
 "cells": [
  {
   "cell_type": "code",
   "execution_count": 1,
   "metadata": {},
   "outputs": [],
   "source": [
    "from EpmPython.read import SpectralState\n",
    "#import numpy as np\n",
    "#from matplotlib import pyplot as plt"
   ]
  },
  {
   "cell_type": "markdown",
   "metadata": {},
   "source": [
    "# Read spectral Data"
   ]
  },
  {
   "cell_type": "code",
   "execution_count": 4,
   "metadata": {},
   "outputs": [
    {
     "name": "stdout",
     "output_type": "stream",
     "text": [
      "Vel Pol: (66, 11)\n",
      "Vel Tor: (66, 11)\n"
     ]
    }
   ],
   "source": [
    "#s = SpectralState('stateSpectralShellQuICC.hdf5', 'sphere', 'quicc')\n",
    "#s = SpectralState('stateSpectralSphereQuICC.hdf5', 'sphere', 'quicc')\n",
    "s = SpectralState('stateSpectralEPM.hdf5')\n",
    "print('Vel Pol:', s.fields.velocity_pol.shape)\n",
    "print('Vel Tor:', s.fields.velocity_tor.shape)"
   ]
  },
  {
   "cell_type": "markdown",
   "metadata": {},
   "source": [
    "# A) $\\omega_f$ : uniform vorticity "
   ]
  },
  {
   "cell_type": "code",
   "execution_count": 5,
   "metadata": {},
   "outputs": [
    {
     "name": "stdout",
     "output_type": "stream",
     "text": [
      "Omega_f:  [-2.18317115e-16  1.00000000e+00 -2.65032236e-19]\n"
     ]
    }
   ],
   "source": [
    "from tools import getUniformVorticity\n",
    "rmax = 1\n",
    "omegaF=getUniformVorticity(s, rmax)\n",
    "print('Omega_f: ', omegaF)"
   ]
  },
  {
   "cell_type": "markdown",
   "metadata": {},
   "source": [
    "# B) Align with the fluid axis"
   ]
  },
  {
   "cell_type": "code",
   "execution_count": 6,
   "metadata": {},
   "outputs": [],
   "source": [
    "#%pdb\n",
    "from tools import alignAlongFluidAxis\n",
    "alignAlongFluidAxis(s, omegaF)"
   ]
  },
  {
   "cell_type": "markdown",
   "metadata": {},
   "source": [
    "# C) Write state file  "
   ]
  },
  {
   "cell_type": "markdown",
   "metadata": {},
   "source": [
    "# D) $\\gamma_f$: rotation angle of the fluid   "
   ]
  },
  {
   "cell_type": "code",
   "execution_count": 7,
   "metadata": {},
   "outputs": [],
   "source": [
    "from tools import getGammaF\n",
    "#filename = ''\n",
    "#getGammaF()"
   ]
  },
  {
   "cell_type": "markdown",
   "metadata": {},
   "source": [
    "# E) Go to Fluid Frame "
   ]
  },
  {
   "cell_type": "code",
   "execution_count": 8,
   "metadata": {},
   "outputs": [],
   "source": [
    "from tools import goToFluidFrameOfReference\n",
    "#getGammaF(filename)\n",
    "gamma = 0\n",
    "goToFluidFrameOfReference(s, gamma)"
   ]
  },
  {
   "cell_type": "markdown",
   "metadata": {},
   "source": [
    "# F) Get Integrator"
   ]
  },
  {
   "cell_type": "code",
   "execution_count": 9,
   "metadata": {},
   "outputs": [
    {
     "name": "stdout",
     "output_type": "stream",
     "text": [
      "id_s:  0 time:  0.22490692138671875\n",
      "id_s:  1 time:  0.23933076858520508\n",
      "id_s:  2 time:  0.24389982223510742\n",
      "id_s:  3 time:  0.216599702835083\n",
      "id_s:  4 time:  0.22910523414611816\n",
      "id_s:  5 time:  0.22523212432861328\n",
      "id_s:  6 time:  0.22963786125183105\n",
      "id_s:  7 time:  0.21958494186401367\n",
      "id_s:  8 time:  0.2349240779876709\n",
      "id_s:  9 time:  0.4250776767730713\n",
      "id_s:  10 time:  0.48050689697265625\n",
      "id_s:  11 time:  0.4303579330444336\n",
      "id_s:  12 time:  0.42610597610473633\n",
      "id_s:  13 time:  0.43300294876098633\n",
      "id_s:  14 time:  0.43822479248046875\n",
      "id_s:  15 time:  0.41301679611206055\n",
      "id_s:  16 time:  0.45494723320007324\n",
      "id_s:  17 time:  0.2861499786376953\n",
      "id_s:  18 time:  0.23798894882202148\n",
      "id_s:  19 time:  0.25354504585266113\n",
      "id_s:  20 time:  0.26320981979370117\n",
      "id_s:  21 time:  0.2502257823944092\n",
      "id_s:  22 time:  0.2608809471130371\n",
      "id_s:  23 time:  0.3058309555053711\n",
      "id_s:  24 time:  0.4399700164794922\n",
      "id_s:  25 time:  0.44241929054260254\n",
      "id_s:  26 time:  0.4275338649749756\n",
      "id_s:  27 time:  0.4452698230743408\n",
      "id_s:  28 time:  0.42726874351501465\n",
      "id_s:  29 time:  0.42176389694213867\n",
      "id_s:  30 time:  0.4276571273803711\n",
      "id_s:  31 time:  0.4060091972351074\n",
      "id_s:  32 time:  0.23321008682250977\n",
      "id_s:  33 time:  0.26520776748657227\n",
      "id_s:  34 time:  0.2589411735534668\n",
      "id_s:  35 time:  0.2414700984954834\n",
      "id_s:  36 time:  0.24255800247192383\n",
      "id_s:  37 time:  0.2860829830169678\n",
      "id_s:  38 time:  0.4193708896636963\n",
      "id_s:  39 time:  0.4314098358154297\n",
      "Total time: 13.252872943878174\n"
     ]
    }
   ],
   "source": [
    "from tools import getZIntegrator\n",
    "nNs = 40\n",
    "zInt = getZIntegrator(s, \"uS\", nNs)"
   ]
  },
  {
   "cell_type": "markdown",
   "metadata": {},
   "source": [
    "# E) Get Z-Integral"
   ]
  },
  {
   "cell_type": "code",
   "execution_count": 13,
   "metadata": {},
   "outputs": [],
   "source": [
    "from tools import getZIntegral \n",
    "#%pdb\n",
    "zIntegral = getZIntegral(s, zInt)"
   ]
  },
  {
   "cell_type": "markdown",
   "metadata": {},
   "source": [
    "# E) Get Slices"
   ]
  },
  {
   "cell_type": "code",
   "execution_count": 14,
   "metadata": {},
   "outputs": [],
   "source": [
    "#%matplotlib notebook"
   ]
  },
  {
   "cell_type": "code",
   "execution_count": 15,
   "metadata": {},
   "outputs": [
    {
     "ename": "AttributeError",
     "evalue": "'SpectralState' object has no attribute 'makeEquatorialSlice'",
     "output_type": "error",
     "traceback": [
      "\u001b[0;31m---------------------------------------------------------------------------\u001b[0m",
      "\u001b[0;31mAttributeError\u001b[0m                            Traceback (most recent call last)",
      "\u001b[0;32m<ipython-input-15-11fe71d3489e>\u001b[0m in \u001b[0;36m<module>\u001b[0;34m()\u001b[0m\n\u001b[1;32m      1\u001b[0m \u001b[0;31m#Make Slices and Grids\u001b[0m\u001b[0;34m\u001b[0m\u001b[0;34m\u001b[0m\u001b[0;34m\u001b[0m\u001b[0m\n\u001b[1;32m      2\u001b[0m \u001b[0meqGrid\u001b[0m\u001b[0;34m=\u001b[0m\u001b[0ms\u001b[0m\u001b[0;34m.\u001b[0m\u001b[0mmakeEquatorialGrid\u001b[0m\u001b[0;34m(\u001b[0m\u001b[0;34m)\u001b[0m\u001b[0;34m\u001b[0m\u001b[0;34m\u001b[0m\u001b[0m\n\u001b[0;32m----> 3\u001b[0;31m \u001b[0meqSlice\u001b[0m\u001b[0;34m=\u001b[0m\u001b[0ms\u001b[0m\u001b[0;34m.\u001b[0m\u001b[0mmakeEquatorialSlice\u001b[0m\u001b[0;34m(\u001b[0m\u001b[0;34m)\u001b[0m\u001b[0;34m\u001b[0m\u001b[0;34m\u001b[0m\u001b[0m\n\u001b[0m\u001b[1;32m      4\u001b[0m \u001b[0mmerGrid\u001b[0m\u001b[0;34m=\u001b[0m\u001b[0ms\u001b[0m\u001b[0;34m.\u001b[0m\u001b[0mmakeMeridionalGrid\u001b[0m\u001b[0;34m(\u001b[0m\u001b[0;34m)\u001b[0m\u001b[0;34m\u001b[0m\u001b[0;34m\u001b[0m\u001b[0m\n\u001b[1;32m      5\u001b[0m \u001b[0mmerSlice\u001b[0m\u001b[0;34m=\u001b[0m\u001b[0ms\u001b[0m\u001b[0;34m.\u001b[0m\u001b[0mmakeMeridionalSlice\u001b[0m\u001b[0;34m(\u001b[0m\u001b[0;34m)\u001b[0m\u001b[0;34m\u001b[0m\u001b[0;34m\u001b[0m\u001b[0m\n",
      "\u001b[0;31mAttributeError\u001b[0m: 'SpectralState' object has no attribute 'makeEquatorialSlice'"
     ]
    }
   ],
   "source": [
    "#Make Slices and Grids\n",
    "eqGrid=s.makeEquatorialGrid()\n",
    "eqSlice=s.makeEquatorialSlice()\n",
    "merGrid=s.makeMeridionalGrid()\n",
    "merSlice=s.makeMeridionalSlice()"
   ]
  }
 ],
 "metadata": {
  "kernelspec": {
   "display_name": "Python 3",
   "language": "python",
   "name": "python3"
  },
  "language_info": {
   "codemirror_mode": {
    "name": "ipython",
    "version": 3
   },
   "file_extension": ".py",
   "mimetype": "text/x-python",
   "name": "python",
   "nbconvert_exporter": "python",
   "pygments_lexer": "ipython3",
   "version": "3.7.3"
  }
 },
 "nbformat": 4,
 "nbformat_minor": 2
}
