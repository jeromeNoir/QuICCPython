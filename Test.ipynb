{
 "cells": [
  {
   "cell_type": "code",
   "execution_count": 2,
   "metadata": {},
   "outputs": [
    {
     "name": "stdout",
     "output_type": "stream",
     "text": [
      "<HDF5 dataset \"bc_velocity\": shape (), type \"<f8\">\n",
      "<HDF5 dataset \"ekman\": shape (), type \"<f8\">\n",
      "<HDF5 dataset \"omega\": shape (), type \"<f8\">\n",
      "<HDF5 dataset \"ro\": shape (), type \"<f8\">\n",
      "<HDF5 dataset \"rossby\": shape (), type \"<f8\">\n",
      "<HDF5 dataset \"rratio\": shape (), type \"<f8\">\n",
      "<HDF5 dataset \"time\": shape (), type \"<f8\">\n",
      "<HDF5 dataset \"timestep\": shape (), type \"<f8\">\n",
      "<HDF5 group \"/truncation/physical\" (3 members)>\n",
      "<HDF5 group \"/truncation/spectral\" (3 members)>\n",
      "<HDF5 group \"/truncation/transform\" (3 members)>\n",
      "<HDF5 dataset \"velocity_pol\": shape (798, 36), type \"|V16\">\n",
      "<HDF5 dataset \"velocity_tor\": shape (798, 36), type \"|V16\">\n"
     ]
    }
   ],
   "source": [
    "from NLMLib import SpectralState\n",
    "\n",
    "#filename= '/home/nicolol/LocalRuns/CouetteImplicit/state0000.hdf5'\n",
    "filename = '/home/nicolol/Downloads/state_convert.hdf5'\n",
    "a = SpectralState('state0000.hdf5', 'shell', 'QuICC')"
   ]
  },
  {
   "cell_type": "code",
   "execution_count": 3,
   "metadata": {},
   "outputs": [
    {
     "data": {
      "text/plain": [
       "array([[ 0.00000000e+00+0.j,  0.00000000e+00+0.j,  0.00000000e+00+0.j,\n",
       "        ...,  0.00000000e+00+0.j,  0.00000000e+00+0.j,\n",
       "         0.00000000e+00+0.j],\n",
       "       [-2.33888533e-16+0.j, -3.08503481e-16+0.j, -2.41560783e-16+0.j,\n",
       "        ...,  6.78143893e-16+0.j,  4.41896422e-16+0.j,\n",
       "         3.62696176e-17+0.j],\n",
       "       [ 0.00000000e+00+0.j,  0.00000000e+00+0.j,  0.00000000e+00+0.j,\n",
       "        ...,  0.00000000e+00+0.j,  0.00000000e+00+0.j,\n",
       "         0.00000000e+00+0.j],\n",
       "       ...,\n",
       "       [ 0.00000000e+00+0.j,  0.00000000e+00+0.j,  0.00000000e+00+0.j,\n",
       "        ...,  0.00000000e+00+0.j,  0.00000000e+00+0.j,\n",
       "         0.00000000e+00+0.j],\n",
       "       [ 0.00000000e+00+0.j,  0.00000000e+00+0.j,  0.00000000e+00+0.j,\n",
       "        ...,  0.00000000e+00+0.j,  0.00000000e+00+0.j,\n",
       "         0.00000000e+00+0.j],\n",
       "       [ 0.00000000e+00+0.j,  0.00000000e+00+0.j,  0.00000000e+00+0.j,\n",
       "        ...,  0.00000000e+00+0.j,  0.00000000e+00+0.j,\n",
       "         0.00000000e+00+0.j]])"
      ]
     },
     "execution_count": 3,
     "metadata": {},
     "output_type": "execute_result"
    }
   ],
   "source": [
    "a.fields.velocity_pol"
   ]
  },
  {
   "cell_type": "code",
   "execution_count": 4,
   "metadata": {},
   "outputs": [
    {
     "data": {
      "text/plain": [
       "0.0"
      ]
     },
     "execution_count": 4,
     "metadata": {},
     "output_type": "execute_result"
    }
   ],
   "source": []
  },
  {
   "cell_type": "code",
   "execution_count": null,
   "metadata": {},
   "outputs": [],
   "source": [
    "list(a.fin.keys())"
   ]
  },
  {
   "cell_type": "code",
   "execution_count": null,
   "metadata": {},
   "outputs": [],
   "source": []
  },
  {
   "cell_type": "code",
   "execution_count": null,
   "metadata": {},
   "outputs": [],
   "source": [
    "a.fin['mesh'].keys()"
   ]
  },
  {
   "cell_type": "code",
   "execution_count": null,
   "metadata": {},
   "outputs": [],
   "source": []
  },
  {
   "cell_type": "code",
   "execution_count": null,
   "metadata": {},
   "outputs": [],
   "source": []
  },
  {
   "cell_type": "code",
   "execution_count": null,
   "metadata": {},
   "outputs": [],
   "source": []
  }
 ],
 "metadata": {
  "kernelspec": {
   "display_name": "Python 3",
   "language": "python",
   "name": "python3"
  },
  "language_info": {
   "codemirror_mode": {
    "name": "ipython",
    "version": 3
   },
   "file_extension": ".py",
   "mimetype": "text/x-python",
   "name": "python",
   "nbconvert_exporter": "python",
   "pygments_lexer": "ipython3",
   "version": "3.6.7"
  }
 },
 "nbformat": 4,
 "nbformat_minor": 2
}
