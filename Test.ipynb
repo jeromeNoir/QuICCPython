{
 "cells": [
  {
   "cell_type": "code",
   "execution_count": 1,
   "metadata": {},
   "outputs": [
    {
     "name": "stdout",
     "output_type": "stream",
     "text": [
      "<HDF5 dataset \"bc_velocity\": shape (), type \"<f8\">\n",
      "<HDF5 dataset \"ekman\": shape (), type \"<f8\">\n",
      "<HDF5 dataset \"ro\": shape (), type \"<f8\">\n",
      "<HDF5 dataset \"rossby\": shape (), type \"<f8\">\n",
      "<HDF5 dataset \"rratio\": shape (), type \"<f8\">\n",
      "<HDF5 dataset \"time\": shape (), type \"<f8\">\n",
      "<HDF5 dataset \"timestep\": shape (), type \"<f8\">\n",
      "<HDF5 group \"/truncation/physical\" (3 members)>\n",
      "<HDF5 group \"/truncation/spectral\" (3 members)>\n",
      "<HDF5 group \"/truncation/transform\" (3 members)>\n",
      "<HDF5 dataset \"velocity_pol\": shape (28920, 120), type \"|V16\">\n",
      "<HDF5 dataset \"velocity_tor\": shape (28920, 120), type \"|V16\">\n"
     ]
    }
   ],
   "source": [
    "from spectral_state import SpectralState\n",
    "import numpy as np\n",
    "\n",
    "#filename= '/home/nicolol/LocalRuns/CouetteImplicit/state0000.hdf5'\n",
    "filename = '/home/nicolol/Downloads/state_convert.hdf5'\n",
    "a = SpectralState('/home/nicolol/Documents/Results/Couette/Ek1E-3.5/Ro.1/state0000.hdf5', 'shell', 'QuICC')"
   ]
  },
  {
   "cell_type": "code",
   "execution_count": 2,
   "metadata": {},
   "outputs": [],
   "source": [
    "idx_dict = a.idxlm()"
   ]
  },
  {
   "cell_type": "code",
   "execution_count": 3,
   "metadata": {
    "scrolled": true
   },
   "outputs": [
    {
     "name": "stderr",
     "output_type": "stream",
     "text": [
      "/home/nicolol/workspace/QuICC/Python/quicc/projection/shell_energy.py:142: RuntimeWarning: invalid value encountered in true_divide\n",
      "  w = (1+(-1)**idx)/(1-idx**2)\n",
      "/home/nicolol/workspace/QuICC/Python/quicc/projection/shell_energy.py:35: RuntimeWarning: invalid value encountered in true_divide\n",
      "  w = (1+(-1)**idx)/(1-idx**2)\n",
      "/home/nicolol/workspace/QuICC/Python/quicc/projection/shell_energy.py:100: RuntimeWarning: invalid value encountered in true_divide\n",
      "  w = (1+(-1)**idx)/(1-idx**2)\n"
     ]
    }
   ],
   "source": [
    "E = np.array(a.compute_energy())/4"
   ]
  },
  {
   "cell_type": "code",
   "execution_count": 4,
   "metadata": {},
   "outputs": [
    {
     "name": "stdout",
     "output_type": "stream",
     "text": [
      "From the integration we get:  [5.94617304e-03 4.40643594e-05 5.99023740e-03]\n"
     ]
    }
   ],
   "source": [
    "print('From the integration we get: ',E)"
   ]
  },
  {
   "cell_type": "code",
   "execution_count": 12,
   "metadata": {},
   "outputs": [
    {
     "name": "stdout",
     "output_type": "stream",
     "text": [
      "From the kinetic_energy.dat file we get:  (0.0059911189319031, 0.0059470545736911, 4.4064358212004e-05)\n"
     ]
    }
   ],
   "source": [
    "print('From the kinetic_energy.dat file we get: ',(0.0059911189319031 ,     0.0059470545736911   ,   4.4064358212004e-05))"
   ]
  },
  {
   "cell_type": "code",
   "execution_count": 14,
   "metadata": {},
   "outputs": [
    {
     "data": {
      "text/plain": [
       "array([0.00253453, 0.00031876, 0.00285329])"
      ]
     },
     "execution_count": 14,
     "metadata": {},
     "output_type": "execute_result"
    }
   ],
   "source": [
    "import numpy as np\n",
    "eta=.35\n",
    "np.array((0.017666758229036014, 0.002221874271107602, 0.019888632500143617))/2/((1/(1-eta))**3-(eta/(1-eta))**3)"
   ]
  },
  {
   "cell_type": "code",
   "execution_count": null,
   "metadata": {},
   "outputs": [],
   "source": [
    "a.fin['mesh'].keys()"
   ]
  },
  {
   "cell_type": "code",
   "execution_count": 17,
   "metadata": {},
   "outputs": [
    {
     "data": {
      "text/plain": [
       "array([43.03049821, 31.7329447 , 41.38451114])"
      ]
     },
     "execution_count": 17,
     "metadata": {},
     "output_type": "execute_result"
    }
   ],
   "source": [
    "np.array((0.017666758229036014, 0.002221874271107602, 0.019888632500143617))/np.array(( 0.00041056364588535, 7.0017903851687e-05, 0.00048058154973704))"
   ]
  },
  {
   "cell_type": "code",
   "execution_count": 4,
   "metadata": {},
   "outputs": [
    {
     "name": "stdout",
     "output_type": "stream",
     "text": [
      "Toroidal field comparison:  4.000278721167414\n"
     ]
    }
   ],
   "source": [
    "print('Toroidal field comparison: ', 0.02378987586475785/0.0059470545736911)"
   ]
  },
  {
   "cell_type": "code",
   "execution_count": 5,
   "metadata": {},
   "outputs": [
    {
     "name": "stdout",
     "output_type": "stream",
     "text": [
      "Poloidal field comparison:  3.9487897282831144\n"
     ]
    }
   ],
   "source": [
    "print('Poloidal field comparison: ', 0.0001740008850909491/4.4064358212004e-05)"
   ]
  },
  {
   "cell_type": "code",
   "execution_count": 6,
   "metadata": {},
   "outputs": [
    {
     "data": {
      "text/plain": [
       "0.007410540878826183"
      ]
     },
     "execution_count": 6,
     "metadata": {},
     "output_type": "execute_result"
    }
   ],
   "source": [
    "/0.023784692175416473"
   ]
  },
  {
   "cell_type": "code",
   "execution_count": null,
   "metadata": {},
   "outputs": [],
   "source": []
  }
 ],
 "metadata": {
  "kernelspec": {
   "display_name": "Python 3",
   "language": "python",
   "name": "python3"
  },
  "language_info": {
   "codemirror_mode": {
    "name": "ipython",
    "version": 3
   },
   "file_extension": ".py",
   "mimetype": "text/x-python",
   "name": "python",
   "nbconvert_exporter": "python",
   "pygments_lexer": "ipython3",
   "version": "3.6.7"
  }
 },
 "nbformat": 4,
 "nbformat_minor": 2
}
