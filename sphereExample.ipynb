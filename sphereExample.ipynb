{
 "cells": [
  {
   "cell_type": "markdown",
   "metadata": {},
   "source": [
    "# Read spectral Data"
   ]
  },
  {
   "cell_type": "code",
   "execution_count": 7,
   "metadata": {},
   "outputs": [
    {
     "name": "stdout",
     "output_type": "stream",
     "text": [
      "Vel Pol: (66, 11)\n",
      "Vel Tor: (66, 11)\n"
     ]
    }
   ],
   "source": [
    "import EpmPython.read as read \n",
    "s = read.SpectralState('stateSpectralEPM.hdf5') #geometry=sphere \n",
    "print('Vel Pol:', s.fields.velocity_pol.shape)\n",
    "print('Vel Tor:', s.fields.velocity_tor.shape)"
   ]
  },
  {
   "cell_type": "markdown",
   "metadata": {},
   "source": [
    "# A) $\\omega_f$ : uniform vorticity "
   ]
  },
  {
   "cell_type": "code",
   "execution_count": 2,
   "metadata": {},
   "outputs": [
    {
     "name": "stdout",
     "output_type": "stream",
     "text": [
      "Omega_f:  [-2.18317115e-16  1.00000000e+00 -2.65032236e-19]\n"
     ]
    }
   ],
   "source": [
    "from EpmPython.sphere.spectral import computeUniformVorticity\n",
    "rmax = 1.0\n",
    "omegaF=computeUniformVorticity(s, rmax)\n",
    "print('Omega_f: ', omegaF)"
   ]
  },
  {
   "cell_type": "markdown",
   "metadata": {},
   "source": [
    "# B) Align with the fluid axis"
   ]
  },
  {
   "cell_type": "code",
   "execution_count": 13,
   "metadata": {},
   "outputs": [],
   "source": [
    "#%pdb\n",
    "from EpmPython.sphere.spectral import alignAlongFluidAxis\n",
    "#s=alignAlongFluidAxis(s, omegaF)\n",
    "#TODO: change this to a deep copy to avoid reopening the file \n",
    "sAligned = alignAlongFluidAxis(s, omegaF) "
   ]
  },
  {
   "cell_type": "code",
   "execution_count": 14,
   "metadata": {},
   "outputs": [],
   "source": [
    "#toto = s \n",
    "#s.fields.velocity_pol\n",
    "#toto.fields.velocity_pol = toto.fields.velocity_pol+1"
   ]
  },
  {
   "cell_type": "markdown",
   "metadata": {},
   "source": [
    "# C) Write state file  "
   ]
  },
  {
   "cell_type": "code",
   "execution_count": 15,
   "metadata": {},
   "outputs": [],
   "source": [
    "from EpmPython.sphere.spectral import writeStateFile\n",
    "filename='rotatedState.hdf5' #keep same structure as original hdf5 files \n",
    "writeStateFile(s, filename)\n",
    "#Leo: change the initializer to \n",
    "#rotState = SpectralState(velP, velT, condensity)"
   ]
  },
  {
   "cell_type": "markdown",
   "metadata": {},
   "source": [
    "# D) $\\gamma_f$: rotation angle of the fluid   "
   ]
  },
  {
   "cell_type": "code",
   "execution_count": 16,
   "metadata": {},
   "outputs": [],
   "source": [
    "from EpmPython.sphere.spectral import getGammaF\n",
    "#filename = ''\n",
    "#getGammaF()"
   ]
  },
  {
   "cell_type": "markdown",
   "metadata": {},
   "source": [
    "# E) Go to Fluid Frame "
   ]
  },
  {
   "cell_type": "code",
   "execution_count": 17,
   "metadata": {},
   "outputs": [],
   "source": [
    "from EpmPython.sphere.spectral import goToFluidFrameOfReference\n",
    "#getGammaF(filename)\n",
    "gamma = 0\n",
    "sFluid = goToFluidFrameOfReference(sAligned, gamma)"
   ]
  },
  {
   "cell_type": "markdown",
   "metadata": {},
   "source": [
    "# F) Get Integrator"
   ]
  },
  {
   "cell_type": "code",
   "execution_count": 18,
   "metadata": {},
   "outputs": [
    {
     "name": "stdout",
     "output_type": "stream",
     "text": [
      "id_s:  0 time:  0.2975270748138428\n",
      "id_s:  1 time:  0.3334639072418213\n",
      "id_s:  2 time:  0.25002479553222656\n",
      "id_s:  3 time:  0.24984216690063477\n",
      "id_s:  4 time:  0.2425549030303955\n",
      "id_s:  5 time:  0.23274707794189453\n",
      "id_s:  6 time:  0.26758289337158203\n",
      "id_s:  7 time:  0.2556169033050537\n",
      "id_s:  8 time:  0.23003220558166504\n",
      "id_s:  9 time:  0.26017308235168457\n",
      "id_s:  10 time:  0.23769402503967285\n",
      "id_s:  11 time:  0.265718936920166\n",
      "id_s:  12 time:  0.2433609962463379\n",
      "id_s:  13 time:  0.22092294692993164\n",
      "id_s:  14 time:  0.2175600528717041\n",
      "id_s:  15 time:  0.24619603157043457\n",
      "id_s:  16 time:  0.2622530460357666\n",
      "id_s:  17 time:  0.26449108123779297\n",
      "id_s:  18 time:  0.2919278144836426\n",
      "id_s:  19 time:  0.23923397064208984\n",
      "id_s:  20 time:  0.22011399269104004\n",
      "id_s:  21 time:  0.1999189853668213\n",
      "id_s:  22 time:  0.21579599380493164\n",
      "id_s:  23 time:  0.21302103996276855\n",
      "id_s:  24 time:  0.27402400970458984\n",
      "id_s:  25 time:  0.2762792110443115\n",
      "id_s:  26 time:  0.23811006546020508\n",
      "id_s:  27 time:  0.24038124084472656\n",
      "id_s:  28 time:  0.22547507286071777\n",
      "id_s:  29 time:  0.23351407051086426\n",
      "id_s:  30 time:  0.2508583068847656\n",
      "id_s:  31 time:  0.23052430152893066\n",
      "id_s:  32 time:  0.25151610374450684\n",
      "id_s:  33 time:  0.2531120777130127\n",
      "id_s:  34 time:  0.23006987571716309\n",
      "id_s:  35 time:  0.23353123664855957\n",
      "id_s:  36 time:  0.2396688461303711\n",
      "id_s:  37 time:  0.27921485900878906\n",
      "id_s:  38 time:  0.24014687538146973\n",
      "id_s:  39 time:  0.2318117618560791\n",
      "Total time: 9.896551847457886\n"
     ]
    }
   ],
   "source": [
    "from EpmPython.sphere.spectral import getZIntegrator\n",
    "nNs = 40\n",
    "getZIntegrator?\n",
    "zInt = getZIntegrator(s, \"uS\", nNs) #return dictionary \n",
    "#zInt.load()\n",
    "#getZIntegrator(s, \"uS\", nNs) #Default use full resolution \n",
    "#optional:\n",
    "#getZIntegrator(s, \"uS\", filename)\n",
    "#computeZIntegral(s, \"uS\", integrator=filename, (nNs=, maxN=, maxL=, maxM=))"
   ]
  },
  {
   "cell_type": "markdown",
   "metadata": {},
   "source": [
    "# E) Get Z-Integral"
   ]
  },
  {
   "cell_type": "code",
   "execution_count": 19,
   "metadata": {},
   "outputs": [],
   "source": [
    "from EpmPython.sphere.spectral import computeZIntegral \n",
    "zIntegral = computeZIntegral(s, zInt)\n",
    "#Leo: change it to computeZIntegral(s, zInt) !!! \n",
    "#getGeostrophicPhysical(zIntegral) \n",
    "#Leo: to reconstruct the geostrophic integrals in a 2D equatorial grid "
   ]
  },
  {
   "cell_type": "markdown",
   "metadata": {},
   "source": [
    "# E) Get Slices"
   ]
  },
  {
   "cell_type": "code",
   "execution_count": 5,
   "metadata": {},
   "outputs": [],
   "source": [
    "%matplotlib notebook\n",
    "from matplotlib import pyplot as plt"
   ]
  },
  {
   "cell_type": "code",
   "execution_count": 19,
   "metadata": {},
   "outputs": [],
   "source": [
    "from EpmPython.sphere.spectral import getEquatorialSlice\n",
    "import numpy as np\n",
    "#from sphare import make...\n",
    "eqSlice=getEquatorialSlice(s)\n",
    "\n",
    "#v = Us_real[0,:]\n",
    "#Us_real=np.vstack((Us_real, v))\n",
    "#v = Us_real[:,0]*0+Us_real[:,0].mean()\n",
    "#Us_real = np.column_stack((Us_real, v))\n",
    "\n",
    "v = eqSlice['uR'][0,:]\n",
    "uR = np.vstack((eqSlice['uR'], v))\n",
    "v = uR[:,0]*0+ uR[:,0].mean()\n",
    "uR = np.column_stack((uR, v))"
   ]
  },
  {
   "cell_type": "code",
   "execution_count": 20,
   "metadata": {},
   "outputs": [
    {
     "data": {
      "text/plain": [
       "(34, 65)"
      ]
     },
     "execution_count": 20,
     "metadata": {},
     "output_type": "execute_result"
    }
   ],
   "source": [
    "uR.shape"
   ]
  },
  {
   "cell_type": "code",
   "execution_count": 21,
   "metadata": {},
   "outputs": [
    {
     "data": {
      "text/plain": [
       "(34, 64)"
      ]
     },
     "execution_count": 21,
     "metadata": {},
     "output_type": "execute_result"
    }
   ],
   "source": [
    "eqSlice['x'].shape"
   ]
  },
  {
   "cell_type": "code",
   "execution_count": 15,
   "metadata": {},
   "outputs": [
    {
     "data": {
      "text/plain": [
       "(33, 64)"
      ]
     },
     "execution_count": 15,
     "metadata": {},
     "output_type": "execute_result"
    }
   ],
   "source": [
    "eqSlice['uR'].shape"
   ]
  },
  {
   "cell_type": "code",
   "execution_count": null,
   "metadata": {},
   "outputs": [],
   "source": [
    "#Leo: \n",
    "#change this to makeEquatorialSliceFromSpectral\n",
    "#optional\n",
    "#eqSlice=s.getEquatorialSlice()\n",
    "plt.subplot(131)\n",
    "plt.axis('Equal')\n",
    "#plt.contourf(eqSlice['x'][:-1,:], eqSlice['y'][:-1,:], eqSlice['uR'])\n",
    "plt.contourf(eqSlice['x'][:,:], eqSlice['y'][:,:], uR)\n",
    "plt.subplot(132)\n",
    "plt.axis('Equal')\n",
    "plt.contourf(eqSlice['x'][:-1,:], eqSlice['y'][:-1,:], eqSlice['uTheta'])\n",
    "plt.subplot(133)\n",
    "plt.axis('Equal')\n",
    "plt.contourf(eqSlice['x'][:-1,:], eqSlice['y'][:-1,:], eqSlice['uPhi'])"
   ]
  },
  {
   "cell_type": "code",
   "execution_count": 4,
   "metadata": {},
   "outputs": [
    {
     "ename": "NameError",
     "evalue": "name 'plt' is not defined",
     "output_type": "error",
     "traceback": [
      "\u001b[0;31m---------------------------------------------------------------------------\u001b[0m",
      "\u001b[0;31mNameError\u001b[0m                                 Traceback (most recent call last)",
      "\u001b[0;32m<ipython-input-4-d62b3802a2aa>\u001b[0m in \u001b[0;36m<module>\u001b[0;34m()\u001b[0m\n\u001b[1;32m      5\u001b[0m \u001b[0;31m#merSlice = getMeridionalSlice(s, field='velocity')\u001b[0m\u001b[0;34m\u001b[0m\u001b[0;34m\u001b[0m\u001b[0;34m\u001b[0m\u001b[0m\n\u001b[1;32m      6\u001b[0m \u001b[0;31m#fields='velocity', 'vorticity',\u001b[0m\u001b[0;34m\u001b[0m\u001b[0;34m\u001b[0m\u001b[0;34m\u001b[0m\u001b[0m\n\u001b[0;32m----> 7\u001b[0;31m \u001b[0mplt\u001b[0m\u001b[0;34m.\u001b[0m\u001b[0msubplot\u001b[0m\u001b[0;34m(\u001b[0m\u001b[0;36m131\u001b[0m\u001b[0;34m)\u001b[0m\u001b[0;34m\u001b[0m\u001b[0;34m\u001b[0m\u001b[0m\n\u001b[0m\u001b[1;32m      8\u001b[0m \u001b[0mplt\u001b[0m\u001b[0;34m.\u001b[0m\u001b[0maxis\u001b[0m\u001b[0;34m(\u001b[0m\u001b[0;34m'Equal'\u001b[0m\u001b[0;34m)\u001b[0m\u001b[0;34m\u001b[0m\u001b[0;34m\u001b[0m\u001b[0m\n\u001b[1;32m      9\u001b[0m \u001b[0;31m#change the output to Transpose\u001b[0m\u001b[0;34m\u001b[0m\u001b[0;34m\u001b[0m\u001b[0;34m\u001b[0m\u001b[0m\n",
      "\u001b[0;31mNameError\u001b[0m: name 'plt' is not defined"
     ]
    }
   ],
   "source": [
    "from EpmPython.sphere.spectral import getMeridionalSlice\n",
    "#from read import makeMeridionalSlice\n",
    "#merSlice=s.getMeridionalSlice()\n",
    "merSlice=getMeridionalSlice(s) \n",
    "#merSlice = getMeridionalSlice(s, field='velocity')\n",
    "#fields='velocity', 'vorticity',  \n",
    "plt.subplot(131)\n",
    "plt.axis('Equal')\n",
    "#change the output to Transpose \n",
    "plt.title('')\n",
    "plt.contourf(merSlice['x'], merSlice['y'], merSlice['uR']) #uR\n",
    "plt.subplot(132)\n",
    "plt.axis('Equal')\n",
    "plt.contourf(merSlice['x'], merSlice['y'], merSlice['uTheta']) #uTheta\n",
    "plt.subplot(133)\n",
    "plt.axis('Equal')\n",
    "plt.contourf(merSlice['x'], merSlice['y'], merSlice['uPhi']) #uPhi"
   ]
  },
  {
   "cell_type": "code",
   "execution_count": 8,
   "metadata": {},
   "outputs": [
    {
     "name": "stdout",
     "output_type": "stream",
     "text": [
      "-0.09515604598670224 0.09515604598670224\n"
     ]
    }
   ],
   "source": [
    "from EpmPython.sphere.physical import getEquatorialSlice\n",
    "from EpmPython.sphere.physical import getMeridionalSlice\n",
    "filename = 'statePhysicalEPM.hdf5'\n",
    "p = read.PhysicalState(filename)\n",
    "eqSlice=getEquatorialSlice(p)\n",
    "merSlice=getMeridionalSlice(p)"
   ]
  },
  {
   "cell_type": "code",
   "execution_count": null,
   "metadata": {},
   "outputs": [],
   "source": []
  }
 ],
 "metadata": {
  "kernelspec": {
   "display_name": "Python 3",
   "language": "python",
   "name": "python3"
  },
  "language_info": {
   "codemirror_mode": {
    "name": "ipython",
    "version": 3
   },
   "file_extension": ".py",
   "mimetype": "text/x-python",
   "name": "python",
   "nbconvert_exporter": "python",
   "pygments_lexer": "ipython3",
   "version": "3.7.2"
  }
 },
 "nbformat": 4,
 "nbformat_minor": 2
}
